{
 "cells": [
  {
   "cell_type": "markdown",
   "metadata": {},
   "source": [
    "# Dask\n",
    "\n",
    "Here in this Learning on Dask, we will explore what is Dask, its architecture, its use and how it is better compare to other libraries for fetching dat from large files and to create Data Frame."
   ]
  },
  {
   "cell_type": "markdown",
   "metadata": {},
   "source": [
    "## So First question that arises in our mind is what is Dask??"
   ]
  },
  {
   "cell_type": "markdown",
   "metadata": {},
   "source": [
    "Dask is a flexible library for parallel computing in Python.\n",
    "\n",
    "Dask is composed of two parts:\n",
    "\n",
    "Dynamic task scheduling optimized for computation. This is similar to Airflow, Luigi, Celery, or Make, but optimized for interactive computational workloads.\n",
    "\n",
    "“Big Data” collections like parallel arrays, dataframes, and lists that extend common interfaces like NumPy, Pandas, or Python iterators to larger-than-memory or distributed environments. These parallel collections run on top of dynamic task schedulers.\n",
    "\n",
    "Dask emphasizes the following virtues:\n",
    "\n",
    "Familiar: Provides parallelized NumPy array and Pandas DataFrame objects\n",
    "\n",
    "Flexible: Provides a task scheduling interface for more custom workloads and integration with other projects.\n",
    "\n",
    "Native: Enables distributed computing in pure Python with access to the PyData stack.\n",
    "\n",
    "Fast: Operates with low overhead, low latency, and minimal serialization necessary for fast numerical algorithms\n",
    "\n",
    "Scales up: Runs resiliently on clusters with 1000s of cores\n",
    "\n",
    "Scales down: Trivial to set up and run on a laptop in a single process\n",
    "\n",
    "Responsive: Designed with interactive computing in mind, it provides rapid feedback and diagnostics to aid humans\n",
    "Dask collections and schedulers\n"
   ]
  },
  {
   "attachments": {
    "image.png": {
     "image/png": "[encoded data removed]"
    }
   },
   "cell_type": "markdown",
   "metadata": {},
   "source": [
    "## Architecture of Dask\n",
    "![image.png](attachment:image.png)"
   ]
  },
  {
   "cell_type": "markdown",
   "metadata": {},
   "source": [
    "## Another Unique Advantage of using Dask is:\n",
    "\n",
    "Dask is convenient on a laptop. It installs trivially with conda or pip and extends the size of convenient datasets from “fits in memory” to “fits on disk”.\n",
    "\n",
    "\n",
    "Dask can scale to a cluster of 100s of machines. It is resilient, elastic, data local, and low latency. For more information, see the documentation about the distributed scheduler.\n",
    "\n",
    "\n",
    "This ease of transition between single-machine to moderate cluster enables users to both start simple and grow when necessary.\n"
   ]
  },
  {
   "cell_type": "markdown",
   "metadata": {},
   "source": [
    "## Installation of Dask"
   ]
  },
  {
   "cell_type": "markdown",
   "metadata": {},
   "source": [
    "You can install dask with conda, with pip, or by installing from source."
   ]
  },
  {
   "cell_type": "markdown",
   "metadata": {},
   "source": [
    "### Using Conda How to install Dask"
   ]
  },
  {
   "cell_type": "markdown",
   "metadata": {},
   "source": [
    "Dask is installed by default in Anaconda. You can update Dask using the conda command:"
   ]
  },
  {
   "cell_type": "code",
   "execution_count": 1,
   "metadata": {},
   "outputs": [
    {
     "name": "stdout",
     "output_type": "stream",
     "text": [
      "Collecting package metadata (current_repodata.json): ...working... done\n",
      "Solving environment: ...working... done\n",
      "\n",
      "## Package Plan ##\n",
      "\n",
      "  environment location: C:\\Users\\Rohan\\anaconda3\n",
      "\n",
      "  added / updated specs:\n",
      "    - dask\n",
      "\n",
      "\n",
      "The following packages will be downloaded:\n",
      "\n",
      "    package                    |            build\n",
      "    ---------------------------|-----------------\n",
      "    conda-4.8.5                |           py38_0         2.9 MB\n",
      "    openssl-1.1.1h             |       he774522_0         4.8 MB\n",
      "    ------------------------------------------------------------\n",
      "                                           Total:         7.7 MB\n",
      "\n",
      "The following packages will be UPDATED:\n",
      "\n",
      "  conda                                        4.8.4-py38_0 --> 4.8.5-py38_0\n",
      "  openssl                                 1.1.1g-he774522_1 --> 1.1.1h-he774522_0\n",
      "\n",
      "\n",
      "\n",
      "Downloading and Extracting Packages\n",
      "\n",
      "openssl-1.1.1h       | 4.8 MB    |            |   0% \n",
      "openssl-1.1.1h       | 4.8 MB    |            |   0% \n",
      "openssl-1.1.1h       | 4.8 MB    | 4          |   5% \n",
      "openssl-1.1.1h       | 4.8 MB    | #5         |  16% \n",
      "openssl-1.1.1h       | 4.8 MB    | ###9       |  40% \n",
      "openssl-1.1.1h       | 4.8 MB    | #######1   |  72% \n",
      "openssl-1.1.1h       | 4.8 MB    | ########   |  81% \n",
      "openssl-1.1.1h       | 4.8 MB    | ########## | 100% \n",
      "openssl-1.1.1h       | 4.8 MB    | ########## | 100% \n",
      "\n",
      "conda-4.8.5          | 2.9 MB    |            |   0% \n",
      "conda-4.8.5          | 2.9 MB    | 2          |   2% \n",
      "conda-4.8.5          | 2.9 MB    | ###        |  30% \n",
      "conda-4.8.5          | 2.9 MB    | ###6       |  37% \n",
      "conda-4.8.5          | 2.9 MB    | #####7     |  58% \n",
      "conda-4.8.5          | 2.9 MB    | ########## | 100% \n",
      "conda-4.8.5          | 2.9 MB    | ########## | 100% \n",
      "Preparing transaction: ...working... done\n",
      "Verifying transaction: ...working... done\n",
      "Executing transaction: ...working... done\n",
      "\n",
      "Note: you may need to restart the kernel to use updated packages.\n"
     ]
    }
   ],
   "source": [
    "conda install dask"
   ]
  },
  {
   "cell_type": "markdown",
   "metadata": {},
   "source": [
    "This installs Dask and all common dependencies, including Pandas and NumPy. Dask packages are maintained both on the default\n",
    "channel and on conda-forge. Optionally, you can obtain a minimal Dask installation using the following command:"
   ]
  },
  {
   "cell_type": "code",
   "execution_count": null,
   "metadata": {},
   "outputs": [],
   "source": [
    "conda install dask-core"
   ]
  },
  {
   "cell_type": "markdown",
   "metadata": {},
   "source": [
    "This will install a minimal set of dependencies required to run Dask similar to (but not exactly the same as) python -m pip install dask below."
   ]
  },
  {
   "cell_type": "markdown",
   "metadata": {},
   "source": [
    "### Using Pip How to install Dask"
   ]
  },
  {
   "cell_type": "markdown",
   "metadata": {},
   "source": [
    "You can install everything required for most common uses of Dask (arrays, dataframes, …) \n",
    "This installs both Dask and dependencies like NumPy, Pandas, and so on that are necessary for different workloads.\n",
    "This is often the right choice for Dask users:"
   ]
  },
  {
   "cell_type": "code",
   "execution_count": 2,
   "metadata": {},
   "outputs": [],
   "source": [
    "python -m pip install \"dask[complete]\"    # Install everything"
   ]
  },
  {
   "cell_type": "markdown",
   "metadata": {},
   "source": [
    "You can also install only the Dask library. Modules like dask.array, dask.dataframe, dask.delayed, or dask.distributed won’t work until you also install NumPy, Pandas, Toolz, or Tornado, respectively. \n",
    "This is common for downstream library maintainers:"
   ]
  },
  {
   "cell_type": "code",
   "execution_count": null,
   "metadata": {},
   "outputs": [],
   "source": [
    "python -m pip install dask                # Install only core parts of dask"
   ]
  },
  {
   "cell_type": "markdown",
   "metadata": {},
   "source": [
    "We also maintain other dependency sets for different subsets of functionality:"
   ]
  },
  {
   "cell_type": "code",
   "execution_count": null,
   "metadata": {},
   "outputs": [],
   "source": [
    "python -m pip install \"dask[array]\"       # Install requirements for dask array\n",
    "python -m pip install \"dask[bag]\"         # Install requirements for dask bag\n",
    "python -m pip install \"dask[dataframe]\"   # Install requirements for dask dataframe\n",
    "python -m pip install \"dask[delayed]\"     # Install requirements for dask delayed\n",
    "python -m pip install \"dask[distributed]\" # Install requirements for distributed dask"
   ]
  },
  {
   "cell_type": "markdown",
   "metadata": {},
   "source": [
    "We have these options so that users of the lightweight core Dask scheduler aren’t required to download the more exotic dependencies of the collections (Numpy, Pandas, Tornado, etc.)."
   ]
  },
  {
   "cell_type": "markdown",
   "metadata": {},
   "source": [
    "### Install from Source"
   ]
  },
  {
   "cell_type": "markdown",
   "metadata": {},
   "source": [
    "To install Dask from source, clone the repository from github:"
   ]
  },
  {
   "cell_type": "code",
   "execution_count": null,
   "metadata": {},
   "outputs": [],
   "source": [
    "git clone https://github.com/dask/dask.git\n",
    "cd dask\n",
    "python -m pip install ."
   ]
  },
  {
   "cell_type": "markdown",
   "metadata": {},
   "source": [
    "### Test"
   ]
  },
  {
   "cell_type": "markdown",
   "metadata": {},
   "source": [
    "Test Dask with py.test:"
   ]
  },
  {
   "cell_type": "code",
   "execution_count": null,
   "metadata": {},
   "outputs": [],
   "source": [
    "cd dask\n",
    "py.test dask"
   ]
  },
  {
   "cell_type": "markdown",
   "metadata": {},
   "source": [
    "Please be aware that installing Dask naively may not install all requirements by default. Please read the pip section above which discusses requirements. You may choose to install the dask[complete] version which includes all dependencies for all collections. Alternatively, you may choose to test only certain submodules depending on the libraries within your environment. For example, to test only Dask core and Dask array we would run tests as follows:"
   ]
  },
  {
   "cell_type": "code",
   "execution_count": null,
   "metadata": {},
   "outputs": [],
   "source": [
    "py.test dask/tests dask/array/tests"
   ]
  },
  {
   "cell_type": "markdown",
   "metadata": {},
   "source": [
    "## Setup\n",
    "This page describes various ways to set up Dask on different hardware, either locally on your own machine or on a distributed cluster. If you are just getting started, then this page is unnecessary. Dask does not require any setup if you only want to use it on a single computer.\n",
    "\n",
    "Dask has two families of task schedulers:\n",
    "\n",
    "Single machine scheduler: This scheduler provides basic features on a local process or thread pool. This scheduler was made first and is the default. It is simple and cheap to use. It can only be used on a single machine and does not scale.\n",
    "Distributed scheduler: This scheduler is more sophisticated. It offers more features, but also requires a bit more effort to set up. It can run locally or distributed across a cluster.\n",
    "If you import Dask, set up a computation, and then call compute, then you will use the single-machine scheduler by default. To use the dask.distributed scheduler you must set up a Client\n"
   ]
  },
  {
   "cell_type": "code",
   "execution_count": null,
   "metadata": {},
   "outputs": [],
   "source": [
    "import dask.dataframe as dd\n",
    "df = dd.read_csv(...)\n",
    "df.x.sum().compute()  # This uses the single-machine scheduler by default"
   ]
  },
  {
   "cell_type": "code",
   "execution_count": null,
   "metadata": {},
   "outputs": [],
   "source": [
    "from dask.distributed import Client\n",
    "client = Client(...)  # Connect to distributed cluster and override default\n",
    "df.x.sum().compute()  # This now runs on the distributed system"
   ]
  },
  {
   "cell_type": "code",
   "execution_count": null,
   "metadata": {},
   "outputs": [],
   "source": []
  }
 ],
 "metadata": {
  "kernelspec": {
   "display_name": "Python 3",
   "language": "python",
   "name": "python3"
  },
  "language_info": {
   "codemirror_mode": {
    "name": "ipython",
    "version": 3
   },
   "file_extension": ".py",
   "mimetype": "text/x-python",
   "name": "python",
   "nbconvert_exporter": "python",
   "pygments_lexer": "ipython3",
   "version": "3.8.3"
  }
 },
 "nbformat": 4,
 "nbformat_minor": 4
}
